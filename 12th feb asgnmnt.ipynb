{
 "cells": [
  {
   "cell_type": "markdown",
   "id": "4501e7b4-b358-48b9-bcc5-fae1b37256de",
   "metadata": {},
   "source": [
    "What is exceotion  and wahts the difference betweeen syntax error and exception"
   ]
  },
  {
   "cell_type": "code",
   "execution_count": null,
   "id": "81859f41-3585-403f-b6af-4000384f28c4",
   "metadata": {},
   "outputs": [],
   "source": [
    "exception is an unwanted event that occurs during the execution of the program which disrupts the normal flow of instruction .\n",
    "when an exception is arised , python stops executing the current block of code further .\n",
    "\n",
    "syntanx error is a type of error which arises due to mistake in code writing which violets the rule of python syntax. syntanx error can be raised by misspell the keywords. \n",
    "miss the paranthese and quotes etc .\n",
    "\n",
    "exception occurs due to invalid operation , incorrect input . excepptioms are the run timr error . while syntax error are detected before execution .\n"
   ]
  },
  {
   "cell_type": "markdown",
   "id": "ab50c169-34da-41eb-8bd8-224d01dda066",
   "metadata": {},
   "source": [
    "What happens when an exception is not handled . with example . "
   ]
  },
  {
   "cell_type": "code",
   "execution_count": null,
   "id": "88efefe5-536a-4a40-8c8c-1a156caa764f",
   "metadata": {},
   "outputs": [],
   "source": [
    "when an exception is detected during time of execution python stops executing further . so if we want to execute further though the code have an \n",
    "exception we need to handle it . "
   ]
  },
  {
   "cell_type": "code",
   "execution_count": 2,
   "id": "ecc06d58-5949-4e3f-9209-b2a6f4f3ac96",
   "metadata": {},
   "outputs": [
    {
     "ename": "ZeroDivisionError",
     "evalue": "division by zero",
     "output_type": "error",
     "traceback": [
      "\u001b[0;31m---------------------------------------------------------------------------\u001b[0m",
      "\u001b[0;31mZeroDivisionError\u001b[0m                         Traceback (most recent call last)",
      "Cell \u001b[0;32mIn[2], line 2\u001b[0m\n\u001b[1;32m      1\u001b[0m a \u001b[38;5;241m=\u001b[39m \u001b[38;5;241m10\u001b[39m \n\u001b[0;32m----> 2\u001b[0m \u001b[43ma\u001b[49m\u001b[38;5;241;43m/\u001b[39;49m\u001b[38;5;241;43m0\u001b[39;49m \n\u001b[1;32m      3\u001b[0m \u001b[38;5;28mprint\u001b[39m(\u001b[38;5;124m\"\u001b[39m\u001b[38;5;124ma is a variable \u001b[39m\u001b[38;5;124m\"\u001b[39m)\n",
      "\u001b[0;31mZeroDivisionError\u001b[0m: division by zero"
     ]
    }
   ],
   "source": [
    "a = 10 \n",
    "a/0 \n",
    "print(\"a is a variable \")"
   ]
  },
  {
   "cell_type": "code",
   "execution_count": null,
   "id": "8481880d-85c8-4e97-9119-379e91b75108",
   "metadata": {},
   "outputs": [],
   "source": [
    "in the above example division error occurs . so the print statement did not execute . "
   ]
  },
  {
   "cell_type": "code",
   "execution_count": null,
   "id": "af51fe02-d3e2-4020-9e46-029c2de22f72",
   "metadata": {},
   "outputs": [],
   "source": [
    "try : \n",
    "    a = 10 \n",
    "    a/0 \n",
    "except Exception as e :\n",
    "    print(\" a is a variable .\")\n",
    "    "
   ]
  },
  {
   "cell_type": "code",
   "execution_count": 4,
   "id": "f723ba92-563a-4a9f-a277-d37d00675841",
   "metadata": {},
   "outputs": [
    {
     "name": "stdout",
     "output_type": "stream",
     "text": [
      " a is a variable .\n"
     ]
    }
   ],
   "source": [
    "try : \n",
    "    a = 10 \n",
    "    a/0 \n",
    "except Exception as e :\n",
    "    print(\" a is a variable .\")\n",
    "    "
   ]
  },
  {
   "cell_type": "markdown",
   "id": "3b97181c-c6b2-42b2-af9f-6f878b94347d",
   "metadata": {},
   "source": [
    "which python statements are used to catch and handle exception ? . explain with example ."
   ]
  },
  {
   "cell_type": "code",
   "execution_count": null,
   "id": "13c2dc36-a7ef-4cbd-9071-c1fd1cddcc16",
   "metadata": {},
   "outputs": [],
   "source": [
    "mainly try , except , else  and finally  are used to catch and handle exceptions in python ."
   ]
  },
  {
   "cell_type": "code",
   "execution_count": 2,
   "id": "3651f418-aa8d-489a-8bb6-1684b6c1103c",
   "metadata": {},
   "outputs": [
    {
     "name": "stdout",
     "output_type": "stream",
     "text": [
      "this is my file\n"
     ]
    }
   ],
   "source": [
    "try :\n",
    "    f = open (\"test3.txt\" , \"r\")\n",
    "except Exception as e :\n",
    "    print(\"this is my file\")\n",
    "#if try block detect any error then except block executed . otherwise the except block does not execute .   \n",
    "\n",
    "    "
   ]
  },
  {
   "cell_type": "code",
   "execution_count": 7,
   "id": "9d709933-96e0-44ed-85cb-cf80007d3b42",
   "metadata": {},
   "outputs": [
    {
     "name": "stdout",
     "output_type": "stream",
     "text": [
      " b is : {-1.0}\n"
     ]
    }
   ],
   "source": [
    "try :\n",
    "    a = 10 \n",
    "    b= 5 \n",
    "    result =(a-3*b)/b\n",
    "except Exception as e :\n",
    "    print (\"answer is negative \")\n",
    "    \n",
    "else :\n",
    "    print(\" b is :\", {result})\n",
    "# else block executed if and only if the try block executed sucessfully . "
   ]
  },
  {
   "cell_type": "code",
   "execution_count": 9,
   "id": "3de4ec48-5d3f-4434-bb64-8b35d534cc78",
   "metadata": {},
   "outputs": [
    {
     "name": "stdout",
     "output_type": "stream",
     "text": [
      " we have 2 variables \n"
     ]
    },
    {
     "ename": "ZeroDivisionError",
     "evalue": "division by zero",
     "output_type": "error",
     "traceback": [
      "\u001b[0;31m---------------------------------------------------------------------------\u001b[0m",
      "\u001b[0;31mZeroDivisionError\u001b[0m                         Traceback (most recent call last)",
      "Cell \u001b[0;32mIn[9], line 4\u001b[0m\n\u001b[1;32m      2\u001b[0m     a \u001b[38;5;241m=\u001b[39m \u001b[38;5;241m10\u001b[39m \n\u001b[1;32m      3\u001b[0m     b\u001b[38;5;241m=\u001b[39m \u001b[38;5;241m5\u001b[39m \n\u001b[0;32m----> 4\u001b[0m     result \u001b[38;5;241m=\u001b[39m\u001b[43m(\u001b[49m\u001b[43ma\u001b[49m\u001b[38;5;241;43m-\u001b[39;49m\u001b[38;5;241;43m3\u001b[39;49m\u001b[38;5;241;43m*\u001b[39;49m\u001b[43mb\u001b[49m\u001b[43m)\u001b[49m\u001b[38;5;241;43m/\u001b[39;49m\u001b[38;5;241;43m0\u001b[39;49m\n\u001b[1;32m      5\u001b[0m \u001b[38;5;28;01mfinally\u001b[39;00m :\n\u001b[1;32m      6\u001b[0m     \u001b[38;5;28mprint\u001b[39m(\u001b[38;5;124m\"\u001b[39m\u001b[38;5;124m we have 2 variables \u001b[39m\u001b[38;5;124m\"\u001b[39m)\n",
      "\u001b[0;31mZeroDivisionError\u001b[0m: division by zero"
     ]
    }
   ],
   "source": [
    "try :\n",
    "    a = 10 \n",
    "    b= 5 \n",
    "    result =(a-3*b)/0\n",
    "finally :\n",
    "    print(\" we have 2 variables \")\n",
    "# if we want to run any code by default regardless of the try block executes sucessfully or not , we put the code in finally block which need to be executed ."
   ]
  },
  {
   "cell_type": "markdown",
   "id": "902564dc-21e9-4a72-9316-2d0089a3d9e2",
   "metadata": {},
   "source": [
    "4 . "
   ]
  },
  {
   "cell_type": "raw",
   "id": "7b34ba4d-38e7-48fa-8a2a-e13512372420",
   "metadata": {},
   "source": [
    "TRY AND ELSE "
   ]
  },
  {
   "cell_type": "code",
   "execution_count": 11,
   "id": "61b90be7-020b-4f22-b675-1eb4ae9f7be8",
   "metadata": {},
   "outputs": [
    {
     "name": "stdout",
     "output_type": "stream",
     "text": [
      " b is : {-1.0}\n"
     ]
    }
   ],
   "source": [
    "try :\n",
    "    a = 10 \n",
    "    b= 5 \n",
    "    result =(a-3*b)/b\n",
    "except Exception as e :\n",
    "    print (\"answer is negative \")\n",
    "    \n",
    "else :\n",
    "    print(\" b is :\", {result})\n",
    "# else block executed if and only if the try block executed sucessfully . "
   ]
  },
  {
   "cell_type": "markdown",
   "id": "e4c01163-e66e-4959-8871-354aa9b6606e",
   "metadata": {},
   "source": [
    "FINALLY "
   ]
  },
  {
   "cell_type": "code",
   "execution_count": 12,
   "id": "2b8b848b-fc1f-4294-bc95-e4330991e8a6",
   "metadata": {},
   "outputs": [
    {
     "name": "stdout",
     "output_type": "stream",
     "text": [
      " we have 2 variables \n"
     ]
    },
    {
     "ename": "ZeroDivisionError",
     "evalue": "division by zero",
     "output_type": "error",
     "traceback": [
      "\u001b[0;31m---------------------------------------------------------------------------\u001b[0m",
      "\u001b[0;31mZeroDivisionError\u001b[0m                         Traceback (most recent call last)",
      "Cell \u001b[0;32mIn[12], line 4\u001b[0m\n\u001b[1;32m      2\u001b[0m     a \u001b[38;5;241m=\u001b[39m \u001b[38;5;241m10\u001b[39m \n\u001b[1;32m      3\u001b[0m     b\u001b[38;5;241m=\u001b[39m \u001b[38;5;241m5\u001b[39m \n\u001b[0;32m----> 4\u001b[0m     result \u001b[38;5;241m=\u001b[39m\u001b[43m(\u001b[49m\u001b[43ma\u001b[49m\u001b[38;5;241;43m-\u001b[39;49m\u001b[38;5;241;43m3\u001b[39;49m\u001b[38;5;241;43m*\u001b[39;49m\u001b[43mb\u001b[49m\u001b[43m)\u001b[49m\u001b[38;5;241;43m/\u001b[39;49m\u001b[38;5;241;43m0\u001b[39;49m\n\u001b[1;32m      5\u001b[0m \u001b[38;5;28;01mfinally\u001b[39;00m :\n\u001b[1;32m      6\u001b[0m     \u001b[38;5;28mprint\u001b[39m(\u001b[38;5;124m\"\u001b[39m\u001b[38;5;124m we have 2 variables \u001b[39m\u001b[38;5;124m\"\u001b[39m)\n",
      "\u001b[0;31mZeroDivisionError\u001b[0m: division by zero"
     ]
    }
   ],
   "source": [
    "try :\n",
    "    a = 10 \n",
    "    b= 5 \n",
    "    result =(a-3*b)/0\n",
    "finally :\n",
    "    print(\" we have 2 variables \")\n",
    "# if we want to run any code by default regardless of the try block executes sucessfully or not , we put the code in finally block which need to be executed ."
   ]
  },
  {
   "cell_type": "markdown",
   "id": "fd6bb9e1-d693-4a09-b8bf-a049028a1292",
   "metadata": {},
   "source": [
    "RAISE"
   ]
  },
  {
   "cell_type": "code",
   "execution_count": 2,
   "id": "d597b6ba-453a-4aff-ba95-5f7477270bb7",
   "metadata": {},
   "outputs": [],
   "source": [
    "def divide(a,b):\n",
    "    if b == 0:\n",
    "        raise ValueError(\"Cannot divide by zero\")\n",
    "    return a / b"
   ]
  },
  {
   "cell_type": "code",
   "execution_count": 4,
   "id": "7eaa7978-4e19-4779-8d0b-afb772a37b50",
   "metadata": {},
   "outputs": [
    {
     "name": "stdout",
     "output_type": "stream",
     "text": [
      "Cannot divide by zero\n"
     ]
    }
   ],
   "source": [
    "try:\n",
    "    divide(10, 0)\n",
    "except ValueError as e:\n",
    "    print(e)"
   ]
  },
  {
   "cell_type": "code",
   "execution_count": null,
   "id": "8ca9e0b0-ebb9-4a8f-b956-2b72b4d1815b",
   "metadata": {},
   "outputs": [],
   "source": [
    "raise statement is used to explicitly raise an exception or error during the execution of a program. "
   ]
  },
  {
   "cell_type": "code",
   "execution_count": null,
   "id": "12e039ec-55f7-424d-bcb8-e814fc0c3462",
   "metadata": {},
   "outputs": [],
   "source": []
  },
  {
   "cell_type": "markdown",
   "id": "94b46904-fe65-4ef2-8686-145c43aea7be",
   "metadata": {},
   "source": [
    "5.\n"
   ]
  },
  {
   "cell_type": "code",
   "execution_count": null,
   "id": "13ee8ae5-9204-4b76-94c3-ef9ed996a85b",
   "metadata": {},
   "outputs": [],
   "source": [
    "custom exceptions are the user-defined exceptions created by the devloper to handle exception relevent to that exception .\n",
    "it extends the functionality of inbuilt exception handling .\n",
    "\n",
    "Custom exceptions allow us to define and handle specific error conditions in our code. \n",
    "By using meaningful exception names, we can better understand the intent of the code and the error conditions being handled"
   ]
  },
  {
   "cell_type": "code",
   "execution_count": 2,
   "id": "56459dcb-5dc2-41b7-8fd6-e7e8e88f30f8",
   "metadata": {},
   "outputs": [
    {
     "name": "stdout",
     "output_type": "stream",
     "text": [
      "Insufficient balance in the account.\n"
     ]
    }
   ],
   "source": [
    "class InsufficientBalanceError(Exception):\n",
    "    \n",
    "    pass\n",
    "\n",
    "\n",
    "class BankAccount:\n",
    "    def __init__(self, balance):\n",
    "        self.balance = balance\n",
    "\n",
    "    def withdraw(self, amount):\n",
    "        if amount > self.balance:\n",
    "            raise InsufficientBalanceError(\"Insufficient balance in the account.\")\n",
    "        else:\n",
    "            self.balance -= amount\n",
    "\n",
    "\n",
    "\n",
    "account = BankAccount(1000)\n",
    "\n",
    "try:\n",
    "    account.withdraw(1500)\n",
    "except InsufficientBalanceError as e:\n",
    "    print(e)  "
   ]
  },
  {
   "cell_type": "markdown",
   "id": "431322ee-3cf7-471e-a5b8-7bfe74fcfc37",
   "metadata": {},
   "source": [
    "6.\n"
   ]
  },
  {
   "cell_type": "code",
   "execution_count": 4,
   "id": "c70bb3d2-b80f-4fd6-ba31-2ba1b71fb19c",
   "metadata": {},
   "outputs": [
    {
     "ename": "TypeError",
     "evalue": "BankAccount() takes no arguments",
     "output_type": "error",
     "traceback": [
      "\u001b[0;31m---------------------------------------------------------------------------\u001b[0m",
      "\u001b[0;31mTypeError\u001b[0m                                 Traceback (most recent call last)",
      "Cell \u001b[0;32mIn[4], line 17\u001b[0m\n\u001b[1;32m     12\u001b[0m         \u001b[38;5;28;01melse\u001b[39;00m:\n\u001b[1;32m     13\u001b[0m             balance \u001b[38;5;241m=\u001b[39m\u001b[38;5;28mself\u001b[39m\u001b[38;5;241m.\u001b[39mbalance \u001b[38;5;241m-\u001b[39m amount\n\u001b[0;32m---> 17\u001b[0m account \u001b[38;5;241m=\u001b[39m \u001b[43mBankAccount\u001b[49m\u001b[43m(\u001b[49m\u001b[38;5;241;43m1000\u001b[39;49m\u001b[43m)\u001b[49m\n\u001b[1;32m     19\u001b[0m \u001b[38;5;28;01mtry\u001b[39;00m:\n\u001b[1;32m     20\u001b[0m     account\u001b[38;5;241m.\u001b[39mwithdraw(\u001b[38;5;241m1500\u001b[39m)\n",
      "\u001b[0;31mTypeError\u001b[0m: BankAccount() takes no arguments"
     ]
    }
   ],
   "source": [
    "class InsufficientBalanceError(Exception):\n",
    "    \n",
    "    def __init__(self, balance):\n",
    "        self.balance = balance\n",
    "\n",
    "\n",
    "class BankAccount:\n",
    "\n",
    "    def withdraw(self, amount):\n",
    "        if amount > self.balance:\n",
    "            raise InsufficientBalanceError(\"Insufficient balance in the account.\")\n",
    "        else:\n",
    "            balance =self.balance - amount\n",
    "\n",
    "\n",
    "\n",
    "account = BankAccount(1000)\n",
    "\n",
    "try:\n",
    "    account.withdraw(1500)\n",
    "except InsufficientBalanceError as e:\n",
    "    print(e)  "
   ]
  },
  {
   "cell_type": "code",
   "execution_count": null,
   "id": "881c9857-7764-4a78-99de-be75c549c4d5",
   "metadata": {},
   "outputs": [],
   "source": []
  }
 ],
 "metadata": {
  "kernelspec": {
   "display_name": "Python 3 (ipykernel)",
   "language": "python",
   "name": "python3"
  },
  "language_info": {
   "codemirror_mode": {
    "name": "ipython",
    "version": 3
   },
   "file_extension": ".py",
   "mimetype": "text/x-python",
   "name": "python",
   "nbconvert_exporter": "python",
   "pygments_lexer": "ipython3",
   "version": "3.10.8"
  }
 },
 "nbformat": 4,
 "nbformat_minor": 5
}
